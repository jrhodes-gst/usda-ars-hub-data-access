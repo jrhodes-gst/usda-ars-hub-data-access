{
 "cells": [
  {
   "cell_type": "markdown",
   "id": "3554f4e8-518d-40d3-8e40-44f49daf7be2",
   "metadata": {},
   "source": [
    "### Download a Growing Degree Day file"
   ]
  },
  {
   "cell_type": "markdown",
   "id": "a76e8be0-8bee-49f3-972b-440f39bb37b8",
   "metadata": {
    "tags": []
   },
   "source": [
    "This notebook demonstrates how to access and download the previous day's Growing Degree Day file to CSV"
   ]
  },
  {
   "cell_type": "markdown",
   "id": "de32f391-ccc2-4a5c-905b-6644e1b9ad33",
   "metadata": {},
   "source": [
    "##### Import Dependencies"
   ]
  },
  {
   "cell_type": "code",
   "execution_count": null,
   "id": "d85633c6-0423-48f5-9007-9ad53f71bc25",
   "metadata": {
    "tags": []
   },
   "outputs": [],
   "source": [
    "import pandas as pd\n",
    "import requests\n",
    "from io import StringIO\n",
    "import arcgis\n",
    "from arcgis.gis import GIS\n",
    "from datetime import datetime, timedelta"
   ]
  },
  {
   "cell_type": "markdown",
   "id": "09931a45-b187-47c2-890a-f1cc7a0ce2b8",
   "metadata": {},
   "source": [
    "##### Set the ArcGIS Portal to PDI-Development"
   ]
  },
  {
   "cell_type": "code",
   "execution_count": null,
   "id": "b2567992-9aa7-40a5-9a71-660833d9d3b7",
   "metadata": {
    "tags": []
   },
   "outputs": [],
   "source": [
    "pdi = GIS(url=\"https://pdi-development.scinet.usda.gov/portal\")\n",
    "print(\"ArcGIS portal set to \" + pdi.url)"
   ]
  },
  {
   "cell_type": "markdown",
   "id": "91d68d3d-a00f-4c58-bdf1-2faee06b6353",
   "metadata": {},
   "source": [
    "##### Set the Desired Growing Degree Day date"
   ]
  },
  {
   "cell_type": "code",
   "execution_count": null,
   "id": "cdb6cedf-cb1d-4fd5-adaf-1782e992cdfe",
   "metadata": {
    "tags": []
   },
   "outputs": [],
   "source": [
    "# Get yesterday's date\n",
    "date = (datetime.today() - timedelta(days=1)).strftime(\"%Y%m%d\")\n",
    "date"
   ]
  },
  {
   "cell_type": "markdown",
   "id": "18ff08dd-c52f-431c-a5e3-993964fca828",
   "metadata": {},
   "source": [
    "##### Query the portal for the item"
   ]
  },
  {
   "cell_type": "code",
   "execution_count": null,
   "id": "a86565ed-b272-43c0-86a5-98ca08a60348",
   "metadata": {
    "tags": []
   },
   "outputs": [],
   "source": [
    "csv_item = pdi.content.search(query=f'growing-degree-day-{date} type:CSV')[0]\n",
    "csv_item"
   ]
  },
  {
   "cell_type": "markdown",
   "id": "44893be1-809b-4a19-8d6a-211fb9cd8870",
   "metadata": {},
   "source": [
    "##### Download the item to a CSV file"
   ]
  },
  {
   "cell_type": "code",
   "execution_count": null,
   "id": "c7ef509c-6144-49cd-a067-dfe9c853180a",
   "metadata": {
    "tags": []
   },
   "outputs": [],
   "source": [
    "csv_url = f\"https://pdi-development.scinet.usda.gov/portal/sharing/rest/content/items/{csv_item.id}/data\"\n",
    "response = requests.get(csv_url)\n",
    "if response.status_code == 200:\n",
    "    csv_data = StringIO(response.text)\n",
    "    df = pd.read_csv(csv_data)\n",
    "    df = df.drop(['fid', 'x', 'y'], axis=1)\n",
    "    for col in df.columns:\n",
    "        if df[col].dtype == 'float64':\n",
    "            df[col] = round(df[col],2)\n",
    "    df.to_csv(f'growing-degree-day-{date}.csv', escapechar='\"', index=False)\n",
    "else:\n",
    "    print(f\"Failed to download file. Status code: {response.status_code}\")"
   ]
  },
  {
   "cell_type": "code",
   "execution_count": null,
   "id": "7de6fc16-a3a3-4750-873f-2968ea723128",
   "metadata": {},
   "outputs": [],
   "source": []
  }
 ],
 "metadata": {
  "kernelspec": {
   "display_name": "Python 3 (ipykernel)",
   "language": "python",
   "name": "python3"
  },
  "language_info": {
   "codemirror_mode": {
    "name": "ipython",
    "version": 3
   },
   "file_extension": ".py",
   "mimetype": "text/x-python",
   "name": "python",
   "nbconvert_exporter": "python",
   "pygments_lexer": "ipython3",
   "version": "3.11.8"
  }
 },
 "nbformat": 4,
 "nbformat_minor": 5
}
