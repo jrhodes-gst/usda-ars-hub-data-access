{
 "cells": [
  {
   "cell_type": "markdown",
   "id": "3eb0f9b6-7a07-4df2-a4d9-0759f67ef327",
   "metadata": {},
   "source": [
    "### Access and download hourly environmental datasets"
   ]
  },
  {
   "cell_type": "markdown",
   "id": "1e8fd2d7-d3fe-43a1-b442-4cd68f7900a1",
   "metadata": {},
   "source": [
    "This notebook demonstrates how to access hourly environmental datasets as a Pandas Dataframe and download to a CSV file."
   ]
  },
  {
   "cell_type": "code",
   "execution_count": null,
   "id": "1cffee38-f7f3-4b65-85ea-f45bc48d9b2b",
   "metadata": {
    "tags": []
   },
   "outputs": [],
   "source": [
    "import ipywidgets as widgets\n",
    "from ipywidgets import *\n",
    "from arcgis.gis import GIS\n",
    "from datetime import datetime, timedelta\n",
    "import pandas as pd\n",
    "from io import StringIO, BytesIO\n",
    "import zipfile\n",
    "import requests\n",
    "\n",
    "pdi = GIS(url=\"https://pdi-development.scinet.usda.gov/portal\")\n",
    "print(\"ArcGIS portal set to \" + pdi.url)"
   ]
  },
  {
   "cell_type": "markdown",
   "id": "adf214e0-e77b-47d4-a471-60cee214ee34",
   "metadata": {
    "tags": []
   },
   "source": [
    "##### Choose a dataset"
   ]
  },
  {
   "cell_type": "code",
   "execution_count": null,
   "id": "f83d9f01-4964-4d2b-984e-0f477649a0ff",
   "metadata": {
    "tags": []
   },
   "outputs": [],
   "source": [
    "dataset_widget = widgets.Dropdown(options=[('Mesonet', 'mesonet'), ('Hydro', 'hydro'), ('Streamgage', 'streamgage')],value='mesonet')\n",
    "dataset_widget"
   ]
  },
  {
   "cell_type": "markdown",
   "id": "654ccb9c-5c1b-4a67-ac97-ed55fe60a06e",
   "metadata": {},
   "source": [
    "##### Choose a date and hour (UTC)"
   ]
  },
  {
   "cell_type": "code",
   "execution_count": null,
   "id": "daf16888-019d-40d7-8712-53af2a39b3f6",
   "metadata": {
    "tags": []
   },
   "outputs": [],
   "source": [
    "todays_date = datetime.today()\n",
    "date_widget = widgets.DatePicker(description='Pick a Date',disabled=False,value=todays_date)\n",
    "display(date_widget)\n",
    "hour_widget=widgets.Dropdown(options=['0000', '0100', '0200', '0300', '0400', '0500', '0600', '0700', '0800', '0900', '1000', '1100', '1200', '1300', '1400', '1500', '1600', '1700', '1800', '1900', '2000', '2100', '2200', '2300'],description='Hour (UTC):',disabled=False)\n",
    "display(hour_widget)"
   ]
  },
  {
   "cell_type": "markdown",
   "id": "3ce3d38a-5beb-470b-9558-8b8b618bdf9d",
   "metadata": {},
   "source": [
    "##### Query the portal for the item"
   ]
  },
  {
   "cell_type": "code",
   "execution_count": null,
   "id": "371c8474-5ac6-4aa0-b377-b8977b4981da",
   "metadata": {
    "tags": []
   },
   "outputs": [],
   "source": [
    "item_name = f'{dataset_widget.value}-{date_widget.value.strftime(\"%Y%m%d\")}_{hour_widget.value}'\n",
    "csv_item = pdi.content.search(query=f'{item_name} type:CSV')[0]\n",
    "csv_item"
   ]
  },
  {
   "cell_type": "markdown",
   "id": "1de940ed-8368-4bf5-b93c-c8af2218bfb7",
   "metadata": {},
   "source": [
    "##### Download the item to a Dataframe"
   ]
  },
  {
   "cell_type": "code",
   "execution_count": null,
   "id": "521d986b-7844-4dd7-b185-4056f0c2482b",
   "metadata": {
    "tags": []
   },
   "outputs": [],
   "source": [
    "csv_url = f\"https://pdi-development.scinet.usda.gov/portal/sharing/rest/content/items/{csv_item.id}/data\"\n",
    "response = requests.get(csv_url)\n",
    "\n",
    "if response.status_code == 200:\n",
    "    if response.headers['content-type'] == 'application/zip':\n",
    "        with zipfile.ZipFile(BytesIO(response.content)) as z:\n",
    "            # Assuming there's only one CSV file in the zip archive\n",
    "            csv_file = [f for f in z.namelist() if f.endswith('.csv')][0]\n",
    "            with z.open(csv_file) as f:\n",
    "                df = pd.read_csv(f)\n",
    "    else:\n",
    "        csv_data = StringIO(response.text)\n",
    "        df = pd.read_csv(csv_data)\n",
    "    \n",
    "    df = df.drop(['fid', 'x', 'y'], axis=1)\n",
    "    for col in df.columns:\n",
    "        if df[col].dtype == 'float64':\n",
    "            df[col] = round(df[col], 2)\n",
    "else:\n",
    "    print(f\"Failed to download file. Status code: {response.status_code}\")\n",
    "df"
   ]
  },
  {
   "cell_type": "markdown",
   "id": "42f6b2da-0df5-49ec-9d14-7dd6692ef61f",
   "metadata": {},
   "source": [
    "##### Convert to a CSV file"
   ]
  },
  {
   "cell_type": "code",
   "execution_count": null,
   "id": "781eee55-39c0-494f-b050-8a1c4e24d86b",
   "metadata": {
    "tags": []
   },
   "outputs": [],
   "source": [
    "df.to_csv(f'{item_name}.csv', escapechar='\"', index=False)"
   ]
  },
  {
   "cell_type": "code",
   "execution_count": null,
   "id": "b87c376f-2f9c-4580-970b-47163b664d61",
   "metadata": {},
   "outputs": [],
   "source": []
  }
 ],
 "metadata": {
  "kernelspec": {
   "display_name": "Python 3 (ipykernel)",
   "language": "python",
   "name": "python3"
  },
  "language_info": {
   "codemirror_mode": {
    "name": "ipython",
    "version": 3
   },
   "file_extension": ".py",
   "mimetype": "text/x-python",
   "name": "python",
   "nbconvert_exporter": "python",
   "pygments_lexer": "ipython3",
   "version": "3.11.8"
  }
 },
 "nbformat": 4,
 "nbformat_minor": 5
}
